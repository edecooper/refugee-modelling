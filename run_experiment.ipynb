{
 "cells": [
  {
   "cell_type": "code",
   "execution_count": 31,
   "metadata": {},
   "outputs": [],
   "source": [
    "import numpy as np\n",
    "import matplotlib.pyplot as plt\n",
    "import seaborn as sns \n",
    "import nbimporter\n",
    "%run -i plotting.ipynb"
   ]
  },
  {
   "cell_type": "code",
   "execution_count": 32,
   "metadata": {},
   "outputs": [],
   "source": [
    "def run_experiment(exp_name, parameter_list, change_index, niters, x_axis):\n",
    "\n",
    "    # Standard list\n",
    "    params = [np.linspace(0.1,1,5), 2000, 0.2*np.ones(5), 2.5, 0.9, 0, 2, \"two_spike\", \"threshold\", \"all_start\", \"average\"]\n",
    "    \n",
    "    if type(change_index)!= list:\n",
    "        change_index = [change_index]\n",
    "    else:\n",
    "        params[change_index[1]] = exp_name\n",
    "\n",
    "    max_e = np.zeros((len(parameter_list), len(params[0])))\n",
    "    when_max_e = np.zeros((len(parameter_list), len(params[0])))\n",
    "    max_r = np.zeros(len(parameter_list))\n",
    "\n",
    "    for (i, param) in enumerate(parameter_list):\n",
    "        params[change_index[0]] = param\n",
    "        u, e, r =  plot_results(params, exp_name , round(param, 2), niters)\n",
    "        max_e[i, :] = np.max(e, axis = 0)\n",
    "        when_max_e[i, :] = np.where(e == max_e[i, :])[0] \n",
    "        max_r[i] = np.max(r)\n",
    "\n",
    "    colors = sns.color_palette(\"crest\", 5)\n",
    "    fig = plt.figure()\n",
    "    ax = fig.add_subplot()\n",
    "    ax.set_prop_cycle('color', colors)\n",
    "    fig.tight_layout(pad = 1.9)\n",
    "\n",
    "    ax.plot(parameter_list, max_e[:, 1: ] , linewidth = 3, label = [\"$P_k = \" + str(b) + \"$\" for b in params[0][1:]])\n",
    "    ax.legend()\n",
    "    ax.set_xlabel(x_axis)\n",
    "    ax.set_ylabel(\"Maximum value of $E(P_k,t)$\")\n",
    "    plt.savefig(\"results/{}/max.png\".format(exp_name), dpi = 300)\n",
    "    plt.close(fig)\n",
    "\n",
    "    fig = plt.figure()\n",
    "    ax = fig.add_subplot()\n",
    "    ax.set_prop_cycle('color', colors)\n",
    "    fig.tight_layout(pad = 1.9)\n",
    "\n",
    "    ax.plot(parameter_list, when_max_e[:, :-1 ]*1e-3 , linewidth = 3, label = [\"$P_k = \" + str(b) + \"$\" for b in params[0][1:]])\n",
    "    ax.legend()\n",
    "    ax.set_xlabel(x_axis)\n",
    "    ax.set_ylabel(\"Time taken to reach maximum value of $E(P_k,t)$\")\n",
    "    plt.savefig(\"results/{}/max_time.png\".format(exp_name), dpi = 300)    \n",
    "    plt.close(fig)\n",
    "\n",
    "\n",
    "    fig = plt.figure()\n",
    "    ax = fig.add_subplot()\n",
    "    ax.set_prop_cycle('color', colors)\n",
    "    fig.tight_layout(pad = 1.9)\n",
    "\n",
    "    ax.plot(parameter_list, max_r , color =  colors[-1], linewidth = 3)\n",
    "    ax.set_xlabel(x_axis)\n",
    "    ax.set_ylabel(\"Maximum value of $R(t)$\")\n",
    "    plt.savefig(\"results/{}/max_r.png\".format(exp_name), dpi = 300)\n",
    "    plt.close(fig)\n",
    "\n",
    "    print(np.where(max_r == np.max(max_r)))"
   ]
  },
  {
   "cell_type": "code",
   "execution_count": null,
   "metadata": {},
   "outputs": [],
   "source": []
  }
 ],
 "metadata": {
  "kernelspec": {
   "display_name": "Python 3.10.6 64-bit",
   "language": "python",
   "name": "python3"
  },
  "language_info": {
   "codemirror_mode": {
    "name": "ipython",
    "version": 3
   },
   "file_extension": ".py",
   "mimetype": "text/x-python",
   "name": "python",
   "nbconvert_exporter": "python",
   "pygments_lexer": "ipython3",
   "version": "3.10.6"
  },
  "orig_nbformat": 4,
  "vscode": {
   "interpreter": {
    "hash": "aee8b7b246df8f9039afb4144a1f6fd8d2ca17a180786b69acc140d282b71a49"
   }
  }
 },
 "nbformat": 4,
 "nbformat_minor": 2
}
