{
 "cells": [
  {
   "cell_type": "markdown",
   "metadata": {},
   "source": [
    "# Changing the inital bin distribution"
   ]
  },
  {
   "cell_type": "code",
   "execution_count": null,
   "metadata": {},
   "outputs": [],
   "source": [
    "ps = [[0.9,0.1,0,0,0], [0.8,0.1,0.1,0,0], [0.7,0.2,0.1,0,0], [0.6,0.2,0.1,0.1,0], [0.5,0.3,0.1,0.1,0], [0.4,0.3,0.2,0.1,0], [0.3,0.3,0.2,0.1,0.1], [0.1,0.2,0.3,0.4,0], [0.05,0.05,0,0,0.9]]\n",
    "params = [np.linspace(0.1,1,5), 2000,0,3,0.9]\n",
    "stables_bins = []\n",
    "for n in ps:\n",
    "    params[2] = np.array(n)\n",
    "    u_b, e_b, r_b = plot_results(params, \"change_bin_dis\", n[0] , 3*10**4)\n",
    "    stables_bins.append(np.min(np.where(np.diff(r_b)/r_b[1:] < 1e-6))*1e-3)\n"
   ]
  },
  {
   "cell_type": "markdown",
   "metadata": {},
   "source": [
    "# Multiplication function"
   ]
  },
  {
   "cell_type": "code",
   "execution_count": null,
   "metadata": {},
   "outputs": [],
   "source": [
    "ds = np.array([*np.linspace(1, 3.5, 10), *np.arange(4, 14)])\n",
    "params = [np.linspace(0.1,1,5), 2000, 0.2*np.ones(5),0,0.9, 0,2]\n",
    "sab = []\n",
    "for d in ds:\n",
    "    params[3] = d\n",
    "    u_d, e_d, r_d = plot_results(params, \"change_mul\", round(d, 2), 3*10**4)\n",
    "    sab.append(np.min(np.where(np.diff(r_d)/r_d[1:] < 1e-6))*1e-3)"
   ]
  }
 ],
 "metadata": {
  "kernelspec": {
   "display_name": "Python 3.10.6 64-bit",
   "language": "python",
   "name": "python3"
  },
  "language_info": {
   "codemirror_mode": {
    "name": "ipython",
    "version": 3
   },
   "file_extension": ".py",
   "mimetype": "text/x-python",
   "name": "python",
   "nbconvert_exporter": "python",
   "pygments_lexer": "ipython3",
   "version": "3.10.6"
  },
  "orig_nbformat": 4,
  "vscode": {
   "interpreter": {
    "hash": "aee8b7b246df8f9039afb4144a1f6fd8d2ca17a180786b69acc140d282b71a49"
   }
  }
 },
 "nbformat": 4,
 "nbformat_minor": 2
}
