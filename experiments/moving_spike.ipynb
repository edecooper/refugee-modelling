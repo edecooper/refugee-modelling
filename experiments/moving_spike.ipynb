{
 "cells": [
  {
   "cell_type": "code",
   "execution_count": 24,
   "metadata": {},
   "outputs": [],
   "source": [
    "import numpy as np\n",
    "import matplotlib.pyplot as plt\n",
    "import seaborn as sns \n",
    "import nbimporter\n",
    "import os\n",
    "%run -i run_experiment.ipynb"
   ]
  },
  {
   "cell_type": "code",
   "execution_count": 26,
   "metadata": {},
   "outputs": [
    {
     "name": "stderr",
     "output_type": "stream",
     "text": [
      "/var/folders/y3/gvvyzm1s5sz1w7fzh7mmq1nr0000gn/T/ipykernel_35745/3073540872.py:13: RuntimeWarning: invalid value encountered in divide\n",
      "  stabilising[i] = np.min(np.where(np.diff(r)/r[1:] < 1e-6))*1e-3\n"
     ]
    }
   ],
   "source": [
    "t0s = np.array([*np.linspace(1,3.5,10), *np.arange(3.5, 14)])\n",
    "run_experiment(\"shift_t0\", t0s, 3, 3*10**4, \"Location of second spike ($t_0$)\")"
   ]
  }
 ],
 "metadata": {
  "kernelspec": {
   "display_name": "Python 3.10.6 64-bit",
   "language": "python",
   "name": "python3"
  },
  "language_info": {
   "codemirror_mode": {
    "name": "ipython",
    "version": 3
   },
   "file_extension": ".py",
   "mimetype": "text/x-python",
   "name": "python",
   "nbconvert_exporter": "python",
   "pygments_lexer": "ipython3",
   "version": "3.10.6"
  },
  "orig_nbformat": 4,
  "vscode": {
   "interpreter": {
    "hash": "aee8b7b246df8f9039afb4144a1f6fd8d2ca17a180786b69acc140d282b71a49"
   }
  }
 },
 "nbformat": 4,
 "nbformat_minor": 2
}
