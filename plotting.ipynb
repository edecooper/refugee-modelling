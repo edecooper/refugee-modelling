{
 "cells": [
  {
   "cell_type": "markdown",
   "metadata": {},
   "source": [
    "# Plotting function\n",
    "This notebook has the function that runs a set simulation, and plots the results."
   ]
  },
  {
   "cell_type": "code",
   "execution_count": 10,
   "metadata": {},
   "outputs": [],
   "source": [
    "import numpy as np\n",
    "import matplotlib.pyplot as plt\n",
    "import seaborn as sns\n",
    "from scipy.integrate import quad\n",
    "import os\n",
    "import nbimporter\n",
    "%run -i refugee_class_discrete.ipynb"
   ]
  },
  {
   "cell_type": "code",
   "execution_count": 11,
   "metadata": {},
   "outputs": [],
   "source": [
    "def plot_results(params, files, name, niters):\n",
    "\n",
    "    if not os.path.exists(\"results/\" + files):\n",
    "        os.mkdir(\"results/\" + files)\n",
    "        os.mkdir(\"results/\" + files + \"/exposed\")\n",
    "        os.mkdir(\"results/\" + files + \"/unaffected\")\n",
    "        os.mkdir(\"results/\" + files + \"/refugees\")\n",
    "\n",
    "    sim = discrete_refugee(*params)\n",
    "    u_test, e_test, r_test = sim.move(niters)\n",
    "    colors = sns.color_palette(\"crest\", 5)\n",
    "\n",
    "    fig = plt.figure()\n",
    "    ax = fig.add_subplot()\n",
    "    ax.set_prop_cycle('color', colors)\n",
    "\n",
    "\n",
    "    ax.plot(np.arange(niters)*1e-3, u_test, linewidth = 3, label = [\"$P_k = \" + str(b) + \"$\" for b in sim.bins])\n",
    "    ax.plot(np.arange(niters)*1e-3, np.mean(u_test, axis = 1), color = 'black',  label = 'Mean', linewidth = 3, linestyle = 'dashed')\n",
    "    ax.set_title(\"Number of unaffected people\")\n",
    "    ax.legend()\n",
    "    ax.set_xlabel(\"Time (days)\")\n",
    "    ax.set_ylabel(\"# People\")\n",
    "    fig.tight_layout(pad = 1.1)\n",
    "    plt.savefig(\"results/\" + files+ \"/unaffected/unaffected_\" + str(name) + \".png\", dpi = 300)\n",
    "    plt.close(fig) \n",
    "\n",
    "\n",
    "    fig = plt.figure()\n",
    "    ax = fig.add_subplot()\n",
    "    ax.set_prop_cycle('color', colors)\n",
    "    for i,j in enumerate(sim.bins): ax.plot(np.arange(niters)*1e-3, e_test[:,i], linewidth = 3, label = \"$P_k = \" + str(j) + \"$\")\n",
    "    ax.plot(np.arange(niters)*1e-3, np.mean(e_test, axis = 1), color = 'black',  label = 'Mean', linewidth = 3, linestyle = 'dashed')\n",
    "    ax.set_title(\"Number of exposed people\") # spike at $d = \" + str(d) + \"$\"\n",
    "    ax.set_xlabel(\"Time (days)\")\n",
    "    ax.set_ylabel(\"# People\")\n",
    "    ax.legend(loc = 'upper right', ncol = 2)\n",
    "    fig.tight_layout(pad = 1.1)\n",
    "    plt.savefig(\"results/\" + files + \"/exposed/exposed_\" + str(name) + \".png\", dpi = 300)\n",
    "    plt.close(fig) \n",
    "\n",
    "    fig = plt.figure()\n",
    "    ax = fig.add_subplot()\n",
    "    ax.plot(np.arange(niters)*1e-3,  r_test, linewidth = 3, color = 'black')\n",
    "    ax.set_title(\"Number of refugees\") #spike at $d = \" + str(d) + \"$\n",
    "    ax.set_xlabel(\"Time (days)\")\n",
    "    ax.set_ylabel(\"# People\")\n",
    "    fig.tight_layout(pad = 1.1)\n",
    "    plt.savefig(\"results/\" + files + \"/refugees/refugees_\" + str(name) + \".png\", dpi = 300)\n",
    "    plt.close(fig) \n",
    "    return u_test, e_test, r_test\n"
   ]
  }
 ],
 "metadata": {
  "kernelspec": {
   "display_name": "Python 3.10.6 64-bit",
   "language": "python",
   "name": "python3"
  },
  "language_info": {
   "codemirror_mode": {
    "name": "ipython",
    "version": 3
   },
   "file_extension": ".py",
   "mimetype": "text/x-python",
   "name": "python",
   "nbconvert_exporter": "python",
   "pygments_lexer": "ipython3",
   "version": "3.10.6"
  },
  "orig_nbformat": 4,
  "vscode": {
   "interpreter": {
    "hash": "aee8b7b246df8f9039afb4144a1f6fd8d2ca17a180786b69acc140d282b71a49"
   }
  }
 },
 "nbformat": 4,
 "nbformat_minor": 2
}
